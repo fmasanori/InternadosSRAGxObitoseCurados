{
 "cells": [
  {
   "cell_type": "markdown",
   "metadata": {},
   "source": [
    "# PACIENTES INTERNADOS COM SÍNDROME RESPIRATÓRIA AGUDA ATÉ MAIO DE 2020 X ÓBITOS E CURADOS EM SP\n",
    "<b>DATA DE EXTRAÇÃO DOS DADOS UTILIZADOS NESTA ANÁLISE: 18/05/2020.</b>\n",
    "<li>FONTE: https://opendatasus.saude.gov.br/dataset/bd-srag-2020</li>\n",
    "<li>DICIONÁRIOS DE DADOS: https://opendatasus.saude.gov.br/dataset/9bc2013f-f293-4f3e-94e7-fa76204fc035/resource/20e51b77-b129-4fd5-84f6-e9428ab5e286/download/dicionario_de_dados_srag_hospitalizado_atual-sivepgripe.pdf </li>\n"
   ]
  },
  {
   "cell_type": "markdown",
   "metadata": {},
   "source": [
    "ESTUDANTES: Débora Cristina Santos & Caroline Faria Nunes"
   ]
  },
  {
   "cell_type": "markdown",
   "metadata": {},
   "source": [
    "<h2>ANÁLISES: </h2>    \n",
    "\n",
    "<li>PACIENTES COVID-19 X HISTÓRICO DE VIAGEM</li>                   \n",
    "<li>PACIENTES COM HISTÓRIO DE VIAGEM X RAÇA</li>             \n",
    "<li>PACIENTES INTERNADOS X PACIENTES TESTADOS</li>             \n",
    "<li>PACIENTES INTERNADOS X UTILIZAÇÃO DE UTI</li>\n",
    "<li>PACIENTES TESTADOS X RESULTADOS DE EXAMES</li>\n",
    "<li>PACIENTES COVID-19 X ÓBITOS</li>\n",
    "<li>PACIENTES COVID-19 X CURADOS</li>\n",
    "<li>PACIENTES ÓBITOS X SEXO</li>\n",
    "<li>PACIENTES CURADOS X SEXO</li>\n",
    "<li>PACIENTES COVID-19 x INTERNADOS NA UTI EM SP</li>\n",
    "<li>PACIENTES INTERNADOS NA UTI COM COVID-19 X ÓBITOS EM SP</li>"
   ]
  },
  {
   "cell_type": "code",
   "execution_count": 5,
   "metadata": {},
   "outputs": [],
   "source": [
    "import pandas as pd\n",
    "import matplotlib.pyplot as plt\n",
    "low_memory=False\n",
    "%matplotlib inline\n",
    "pd.options.display.max_columns = 80\n",
    "pd.options.display.max_rows = 90"
   ]
  },
  {
   "cell_type": "code",
   "execution_count": 6,
   "metadata": {},
   "outputs": [],
   "source": [
    "filename = r'/Users/deboracristina/Desktop/AnaliseSUS/CursoPyLadies/sraghosp_18.05.2020.xlsx'\n",
    "df = pd.read_excel(filename)"
   ]
  },
  {
   "cell_type": "code",
   "execution_count": 17,
   "metadata": {},
   "outputs": [
    {
     "data": {
      "text/plain": [
       "(157268, 140)"
      ]
     },
     "execution_count": 17,
     "metadata": {},
     "output_type": "execute_result"
    }
   ],
   "source": [
    "df.shape"
   ]
  },
  {
   "cell_type": "markdown",
   "metadata": {},
   "source": [
    "# Estados (UF) sendo considerados nesta análise e seus respectivos números de hospitalizados:"
   ]
  },
  {
   "cell_type": "code",
   "execution_count": 15,
   "metadata": {},
   "outputs": [
    {
     "data": {
      "text/html": [
       "<div>\n",
       "<style scoped>\n",
       "    .dataframe tbody tr th:only-of-type {\n",
       "        vertical-align: middle;\n",
       "    }\n",
       "\n",
       "    .dataframe tbody tr th {\n",
       "        vertical-align: top;\n",
       "    }\n",
       "\n",
       "    .dataframe thead th {\n",
       "        text-align: right;\n",
       "    }\n",
       "</style>\n",
       "<table border=\"1\" class=\"dataframe\">\n",
       "  <thead>\n",
       "    <tr style=\"text-align: right;\">\n",
       "      <th></th>\n",
       "      <th>HOSPITAL</th>\n",
       "      <th>SG_UF_NOT</th>\n",
       "      <th>QUANTIDADE DE INTERNADOS</th>\n",
       "    </tr>\n",
       "  </thead>\n",
       "  <tbody>\n",
       "    <tr>\n",
       "      <th>75</th>\n",
       "      <td>1.0</td>\n",
       "      <td>SP</td>\n",
       "      <td>60510</td>\n",
       "    </tr>\n",
       "    <tr>\n",
       "      <th>74</th>\n",
       "      <td>1.0</td>\n",
       "      <td>RJ</td>\n",
       "      <td>17052</td>\n",
       "    </tr>\n",
       "    <tr>\n",
       "      <th>73</th>\n",
       "      <td>1.0</td>\n",
       "      <td>MG</td>\n",
       "      <td>9262</td>\n",
       "    </tr>\n",
       "    <tr>\n",
       "      <th>72</th>\n",
       "      <td>1.0</td>\n",
       "      <td>CE</td>\n",
       "      <td>8793</td>\n",
       "    </tr>\n",
       "    <tr>\n",
       "      <th>71</th>\n",
       "      <td>1.0</td>\n",
       "      <td>PE</td>\n",
       "      <td>7197</td>\n",
       "    </tr>\n",
       "    <tr>\n",
       "      <th>70</th>\n",
       "      <td>1.0</td>\n",
       "      <td>PR</td>\n",
       "      <td>7070</td>\n",
       "    </tr>\n",
       "    <tr>\n",
       "      <th>69</th>\n",
       "      <td>1.0</td>\n",
       "      <td>RS</td>\n",
       "      <td>5397</td>\n",
       "    </tr>\n",
       "    <tr>\n",
       "      <th>68</th>\n",
       "      <td>1.0</td>\n",
       "      <td>AM</td>\n",
       "      <td>4842</td>\n",
       "    </tr>\n",
       "    <tr>\n",
       "      <th>66</th>\n",
       "      <td>1.0</td>\n",
       "      <td>BA</td>\n",
       "      <td>3163</td>\n",
       "    </tr>\n",
       "    <tr>\n",
       "      <th>65</th>\n",
       "      <td>1.0</td>\n",
       "      <td>SC</td>\n",
       "      <td>2650</td>\n",
       "    </tr>\n",
       "    <tr>\n",
       "      <th>64</th>\n",
       "      <td>1.0</td>\n",
       "      <td>PA</td>\n",
       "      <td>2239</td>\n",
       "    </tr>\n",
       "    <tr>\n",
       "      <th>63</th>\n",
       "      <td>1.0</td>\n",
       "      <td>DF</td>\n",
       "      <td>1928</td>\n",
       "    </tr>\n",
       "    <tr>\n",
       "      <th>62</th>\n",
       "      <td>1.0</td>\n",
       "      <td>GO</td>\n",
       "      <td>1664</td>\n",
       "    </tr>\n",
       "    <tr>\n",
       "      <th>61</th>\n",
       "      <td>1.0</td>\n",
       "      <td>PB</td>\n",
       "      <td>1536</td>\n",
       "    </tr>\n",
       "    <tr>\n",
       "      <th>60</th>\n",
       "      <td>1.0</td>\n",
       "      <td>PI</td>\n",
       "      <td>1465</td>\n",
       "    </tr>\n",
       "    <tr>\n",
       "      <th>59</th>\n",
       "      <td>1.0</td>\n",
       "      <td>MS</td>\n",
       "      <td>1428</td>\n",
       "    </tr>\n",
       "    <tr>\n",
       "      <th>58</th>\n",
       "      <td>1.0</td>\n",
       "      <td>MA</td>\n",
       "      <td>1192</td>\n",
       "    </tr>\n",
       "    <tr>\n",
       "      <th>56</th>\n",
       "      <td>1.0</td>\n",
       "      <td>ES</td>\n",
       "      <td>1029</td>\n",
       "    </tr>\n",
       "    <tr>\n",
       "      <th>55</th>\n",
       "      <td>1.0</td>\n",
       "      <td>RN</td>\n",
       "      <td>1006</td>\n",
       "    </tr>\n",
       "    <tr>\n",
       "      <th>54</th>\n",
       "      <td>1.0</td>\n",
       "      <td>MT</td>\n",
       "      <td>966</td>\n",
       "    </tr>\n",
       "    <tr>\n",
       "      <th>52</th>\n",
       "      <td>1.0</td>\n",
       "      <td>AL</td>\n",
       "      <td>551</td>\n",
       "    </tr>\n",
       "    <tr>\n",
       "      <th>48</th>\n",
       "      <td>1.0</td>\n",
       "      <td>TO</td>\n",
       "      <td>436</td>\n",
       "    </tr>\n",
       "    <tr>\n",
       "      <th>46</th>\n",
       "      <td>1.0</td>\n",
       "      <td>SE</td>\n",
       "      <td>424</td>\n",
       "    </tr>\n",
       "    <tr>\n",
       "      <th>40</th>\n",
       "      <td>1.0</td>\n",
       "      <td>RO</td>\n",
       "      <td>185</td>\n",
       "    </tr>\n",
       "    <tr>\n",
       "      <th>35</th>\n",
       "      <td>1.0</td>\n",
       "      <td>RR</td>\n",
       "      <td>120</td>\n",
       "    </tr>\n",
       "    <tr>\n",
       "      <th>34</th>\n",
       "      <td>1.0</td>\n",
       "      <td>AP</td>\n",
       "      <td>104</td>\n",
       "    </tr>\n",
       "    <tr>\n",
       "      <th>33</th>\n",
       "      <td>1.0</td>\n",
       "      <td>AC</td>\n",
       "      <td>96</td>\n",
       "    </tr>\n",
       "  </tbody>\n",
       "</table>\n",
       "</div>"
      ],
      "text/plain": [
       "    HOSPITAL SG_UF_NOT  QUANTIDADE DE INTERNADOS\n",
       "75       1.0        SP                     60510\n",
       "74       1.0        RJ                     17052\n",
       "73       1.0        MG                      9262\n",
       "72       1.0        CE                      8793\n",
       "71       1.0        PE                      7197\n",
       "70       1.0        PR                      7070\n",
       "69       1.0        RS                      5397\n",
       "68       1.0        AM                      4842\n",
       "66       1.0        BA                      3163\n",
       "65       1.0        SC                      2650\n",
       "64       1.0        PA                      2239\n",
       "63       1.0        DF                      1928\n",
       "62       1.0        GO                      1664\n",
       "61       1.0        PB                      1536\n",
       "60       1.0        PI                      1465\n",
       "59       1.0        MS                      1428\n",
       "58       1.0        MA                      1192\n",
       "56       1.0        ES                      1029\n",
       "55       1.0        RN                      1006\n",
       "54       1.0        MT                       966\n",
       "52       1.0        AL                       551\n",
       "48       1.0        TO                       436\n",
       "46       1.0        SE                       424\n",
       "40       1.0        RO                       185\n",
       "35       1.0        RR                       120\n",
       "34       1.0        AP                       104\n",
       "33       1.0        AC                        96"
      ]
     },
     "execution_count": 15,
     "metadata": {},
     "output_type": "execute_result"
    }
   ],
   "source": [
    "ocor = df.groupby(['HOSPITAL','SG_UF_NOT']).SG_UF_NOT.count().sort_values().reset_index(name=\"QUANTIDADE DE INTERNADOS\")\n",
    "\n",
    "est = ocor.drop_duplicates('SG_UF_NOT')\n",
    "est.SG_UF_NOT\n",
    "lista_temp=[]\n",
    "for w in est.index:\n",
    "    lista_por_cidade = ocor[(ocor.SG_UF_NOT == est.SG_UF_NOT[w])]\n",
    "    lista_temp.append(lista_por_cidade.loc[lista_por_cidade['QUANTIDADE DE INTERNADOS'].idxmax()])\n",
    "\n",
    "lt = pd.DataFrame(lista_temp)\n",
    "lt = lt.sort_values(by='QUANTIDADE DE INTERNADOS', ascending=False)\n",
    "lt"
   ]
  },
  {
   "cell_type": "markdown",
   "metadata": {},
   "source": [
    "HOSPITAL = 1 Significa que o paciente foi internado"
   ]
  },
  {
   "cell_type": "code",
   "execution_count": 55,
   "metadata": {},
   "outputs": [
    {
     "data": {
      "text/plain": [
       "SP    60510\n",
       "RJ    17052\n",
       "MG     9262\n",
       "CE     8793\n",
       "PE     7197\n",
       "PR     7070\n",
       "RS     5397\n",
       "AM     4842\n",
       "BA     3163\n",
       "SC     2650\n",
       "PA     2239\n",
       "DF     1928\n",
       "GO     1664\n",
       "PB     1536\n",
       "PI     1465\n",
       "MS     1428\n",
       "MA     1192\n",
       "ES     1029\n",
       "RN     1006\n",
       "MT      966\n",
       "AL      551\n",
       "TO      436\n",
       "SE      424\n",
       "RO      185\n",
       "RR      120\n",
       "AP      104\n",
       "AC       96\n",
       "Name: SG_UF_NOT, dtype: int64"
      ]
     },
     "execution_count": 55,
     "metadata": {},
     "output_type": "execute_result"
    }
   ],
   "source": [
    "df.query('HOSPITAL == \"1\"')['SG_UF_NOT'].value_counts()"
   ]
  },
  {
   "cell_type": "markdown",
   "metadata": {},
   "source": [
    "## QUANTIDADE DE PACIENTES INTERNADOS COM HISTÓRICO DE VIAGEM NOS 14 DIAS ANTERIORES A INTERNAÇÃO POR ESTADO (UF)"
   ]
  },
  {
   "cell_type": "code",
   "execution_count": 9,
   "metadata": {},
   "outputs": [
    {
     "data": {
      "image/png": "[encoded data removed]",
      "text/plain": [
       "<Figure size 1800x576 with 1 Axes>"
      ]
     },
     "metadata": {
      "needs_background": "light"
     },
     "output_type": "display_data"
    }
   ],
   "source": [
    "df.query('HOSPITAL == \"1\" and HISTO_VGM ==1')['SG_UF_NOT'].value_counts().plot(kind='barh',figsize=(25, 8))\n",
    "plt.suptitle('QUANTIDADE DE PACIENTES INTERNADOS X HISTÓRICO DE VIAGEM', size=20)\n",
    "plt.xlabel(\"Quanditade de Internados com histórico de viagem ao exterior\")\n",
    "plt.ylabel(\"Estados Brasileiros\")\n",
    "plt.grid(True)\n",
    "plt.show()"
   ]
  },
  {
   "cell_type": "code",
   "execution_count": 59,
   "metadata": {},
   "outputs": [
    {
     "data": {
      "text/plain": [
       "SP    190\n",
       "MG     88\n",
       "PR     85\n",
       "SC     39\n",
       "BA     30\n",
       "GO     30\n",
       "RJ     29\n",
       "RS     28\n",
       "PE     26\n",
       "MT     21\n",
       "MS     17\n",
       "DF     12\n",
       "AM     12\n",
       "RN      9\n",
       "PI      6\n",
       "PB      5\n",
       "AL      5\n",
       "CE      5\n",
       "MA      3\n",
       "SE      3\n",
       "PA      3\n",
       "ES      2\n",
       "RR      1\n",
       "TO      1\n",
       "Name: SG_UF_NOT, dtype: int64"
      ]
     },
     "execution_count": 59,
     "metadata": {},
     "output_type": "execute_result"
    }
   ],
   "source": [
    "df.query('HOSPITAL == 1 and HISTO_VGM == 1')['SG_UF_NOT'].value_counts()"
   ]
  },
  {
   "cell_type": "markdown",
   "metadata": {},
   "source": [
    "# Quantidade de pacientes viajantes por raça"
   ]
  },
  {
   "cell_type": "markdown",
   "metadata": {},
   "source": [
    "Puxando por pacientes com histórico de viagem positivo nos 14 dias antecedentes a internação"
   ]
  },
  {
   "cell_type": "code",
   "execution_count": 16,
   "metadata": {},
   "outputs": [
    {
     "data": {
      "image/png": "[encoded data removed]",
      "text/plain": [
       "<Figure size 432x432 with 1 Axes>"
      ]
     },
     "metadata": {
      "needs_background": "light"
     },
     "output_type": "display_data"
    }
   ],
   "source": [
    "df.query('HISTO_VGM == \"1\"')['CS_RACA'].value_counts().plot(kind='bar', figsize=(6,6), color='#33ffbb', edgecolor='black')\n",
    "plt.title('Quantidade de pacientes viajantes por raça')\n",
    "plt.xlabel('Raça')\n",
    "plt.setp(plt.gca().get_xticklabels(), rotation=45, horizontalalignment='right')\n",
    "plt.ylabel('Qtd de Pacientes')\n",
    "plt.legend(loc='best') \n",
    "plt.grid(True)\n",
    "plt.show()"
   ]
  },
  {
   "cell_type": "markdown",
   "metadata": {},
   "source": [
    "Legenda das raças: 1-Branca 2-Preta 3-Amarela 4-Parda 5-Indígena 9-Ignorado"
   ]
  },
  {
   "cell_type": "markdown",
   "metadata": {},
   "source": [
    "# Quantidade de viajantes BRANCOS por países de destino"
   ]
  },
  {
   "cell_type": "code",
   "execution_count": 17,
   "metadata": {},
   "outputs": [
    {
     "data": {
      "image/png": "[encoded data removed]",
      "text/plain": [
       "<Figure size 432x432 with 1 Axes>"
      ]
     },
     "metadata": {
      "needs_background": "light"
     },
     "output_type": "display_data"
    }
   ],
   "source": [
    "df.query('CS_RACA == \"1.0\"')['PAIS_VGM'].value_counts().head().plot(kind='bar', figsize=(6,6), color='#990099', edgecolor='black')\n",
    "plt.grid(True)"
   ]
  },
  {
   "cell_type": "markdown",
   "metadata": {},
   "source": [
    "# Quantidade de viajantes NEGROS por países de destino"
   ]
  },
  {
   "cell_type": "code",
   "execution_count": 33,
   "metadata": {},
   "outputs": [
    {
     "data": {
      "text/plain": [
       "BRASIL         11\n",
       "ESPANHA         2\n",
       "ARGENTINA       1\n",
       "REINO UNIDO     1\n",
       "SUICA           1\n",
       "Name: PAIS_VGM, dtype: int64"
      ]
     },
     "execution_count": 33,
     "metadata": {},
     "output_type": "execute_result"
    }
   ],
   "source": [
    "df.query('CS_RACA == \"2.0\"')['PAIS_VGM'].value_counts().head()"
   ]
  },
  {
   "cell_type": "markdown",
   "metadata": {},
   "source": [
    "# Dos pacientes internados, quantos foram testados?"
   ]
  },
  {
   "cell_type": "code",
   "execution_count": 73,
   "metadata": {},
   "outputs": [
    {
     "data": {
      "text/plain": [
       "1.0    131347\n",
       "2.0      4433\n",
       "9.0      1165\n",
       "Name: AMOSTRA, dtype: int64"
      ]
     },
     "execution_count": 73,
     "metadata": {},
     "output_type": "execute_result"
    }
   ],
   "source": [
    "df.query('HOSPITAL == \"1\"')['AMOSTRA'].value_counts()"
   ]
  },
  {
   "cell_type": "markdown",
   "metadata": {},
   "source": [
    "Dos pacientes internados, quem teve a amostra coletada para diagnóstico: 1-Sim 2-Não 9-Ignorado"
   ]
  },
  {
   "cell_type": "markdown",
   "metadata": {},
   "source": [
    "# % CONSTANDO QUE EM MÉDIA 27% DOS MOTIVOS DE INTERNAÇÃO FORAM POR COVID-19 E OUTROS 27% POSSIVELMENTE TAMBÉM POR COVID-19:"
   ]
  },
  {
   "cell_type": "code",
   "execution_count": 25,
   "metadata": {},
   "outputs": [
    {
     "data": {
      "text/plain": [
       "<function matplotlib.pyplot.show(*args, **kw)>"
      ]
     },
     "execution_count": 25,
     "metadata": {},
     "output_type": "execute_result"
    },
    {
     "data": {
      "image/png": "[encoded data removed]",
      "text/plain": [
       "<Figure size 432x432 with 1 Axes>"
      ]
     },
     "metadata": {},
     "output_type": "display_data"
    }
   ],
   "source": [
    "df1 = df.groupby(['SG_UF_NOT','CLASSI_FIN','HOSPITAL']).CLASSI_FIN.count().reset_index(name=\"QTD\")\n",
    "df1.CLASSI_FIN.value_counts().plot(kind='pie', autopct='%.2f%%', figsize=(6, 6), legend='false' )\n",
    "centre_circle = plt.Circle((0,0),0.7,fc='white')\n",
    "fig = plt.gcf()\n",
    "fig.gca().add_artist(centre_circle)\n",
    "plt.axis('equal')\n",
    "plt.axis('off')\n",
    "plt.legend(loc=\"right\")\n",
    "plt.show"
   ]
  },
  {
   "cell_type": "markdown",
   "metadata": {},
   "source": [
    "<li>1-SRAG por influenza</li>\n",
    "<li>2-SRAG por outro vírus respiratório</li>\n",
    "<li>3-SRAG por outro agente Etiológico</li>\n",
    "<li>4-SRAG não especificado</li>\n",
    "<li>5-COVID-19</li>"
   ]
  },
  {
   "cell_type": "markdown",
   "metadata": {},
   "source": [
    "# DOS PACIENTES INTERNADOS, QUANTOS FORAM INTERNADOS EM UTI?"
   ]
  },
  {
   "cell_type": "code",
   "execution_count": 83,
   "metadata": {},
   "outputs": [
    {
     "data": {
      "text/plain": [
       "2.0    85595\n",
       "1.0    40980\n",
       "9.0     3783\n",
       "Name: UTI, dtype: int64"
      ]
     },
     "execution_count": 83,
     "metadata": {},
     "output_type": "execute_result"
    }
   ],
   "source": [
    "df.query('HOSPITAL == \"1\"')['UTI'].value_counts()"
   ]
  },
  {
   "cell_type": "markdown",
   "metadata": {},
   "source": [
    "Legenda: 1-Sim 2-Não 9-Ignorado"
   ]
  },
  {
   "cell_type": "markdown",
   "metadata": {},
   "source": [
    "# Dos pacientes testados, resultados dos testes: \n",
    "43.119 POSITIVOS PARA COVID-19"
   ]
  },
  {
   "cell_type": "code",
   "execution_count": 118,
   "metadata": {},
   "outputs": [
    {
     "data": {
      "text/plain": [
       "4.0    50485\n",
       "5.0    43119\n",
       "2.0     2246\n",
       "1.0     1917\n",
       "3.0      334\n",
       "Name: CLASSI_FIN, dtype: int64"
      ]
     },
     "execution_count": 118,
     "metadata": {},
     "output_type": "execute_result"
    }
   ],
   "source": [
    "df.query('AMOSTRA == \"1\"')['CLASSI_FIN'].value_counts()"
   ]
  },
  {
   "cell_type": "markdown",
   "metadata": {},
   "source": [
    "Legenda: \n",
    "1-SRAG por influenza \n",
    "2-SRAG por outro vírus respiratório \n",
    "3-SRAG por outro agente Etiológico, qual: 4-SRAG não especificado \n",
    "5-COVID-19"
   ]
  },
  {
   "cell_type": "markdown",
   "metadata": {},
   "source": [
    "# Dos pacientes diagnosticados com covid-19, quantos tinham histórico de viagem ao exterior?\n",
    "327 COM HISTÓRICO DE VIAGEM AO EXTERIOR"
   ]
  },
  {
   "cell_type": "code",
   "execution_count": 67,
   "metadata": {},
   "outputs": [
    {
     "data": {
      "text/plain": [
       "2    29183\n",
       "0     7936\n",
       "9     6460\n",
       "1      327\n",
       "Name: HISTO_VGM, dtype: int64"
      ]
     },
     "execution_count": 67,
     "metadata": {},
     "output_type": "execute_result"
    }
   ],
   "source": [
    "df.query('CLASSI_FIN == \"5\"')['HISTO_VGM'].value_counts().head()"
   ]
  },
  {
   "cell_type": "markdown",
   "metadata": {},
   "source": [
    "Legenda: 1-Sim 2-Não 9-Ignorado"
   ]
  },
  {
   "cell_type": "markdown",
   "metadata": {},
   "source": [
    "## DOS PACIENTES INTERNADOS COM COVID 19, QUANTOS FORAM CURADOS (TIVERAM ALTA)"
   ]
  },
  {
   "cell_type": "code",
   "execution_count": 84,
   "metadata": {},
   "outputs": [
    {
     "data": {
      "text/plain": [
       "'PACIENTES CURADOS DEPOIS DE INTERNADOS POR CORONA VÍRUS: 16267'"
      ]
     },
     "execution_count": 84,
     "metadata": {},
     "output_type": "execute_result"
    }
   ],
   "source": [
    "total = df.query('EVOLUCAO == 1 and CLASSI_FIN == 5')['HOSPITAL'].count()\n",
    "f'PACIENTES CURADOS DEPOIS DE INTERNADOS POR CORONA VÍRUS: {total}'"
   ]
  },
  {
   "cell_type": "markdown",
   "metadata": {},
   "source": [
    "## DOS PACIENTES INTERNADOS COM COVID 19, QUANTOS FORAM AO ÓBITO?"
   ]
  },
  {
   "cell_type": "code",
   "execution_count": 88,
   "metadata": {},
   "outputs": [
    {
     "data": {
      "text/plain": [
       "'PACIENTES QUE NÃO RESISTIRAM DEPOIS DE INTERNADOS POR CORONA VÍRUS: 12949'"
      ]
     },
     "execution_count": 88,
     "metadata": {},
     "output_type": "execute_result"
    }
   ],
   "source": [
    "total = df.query('EVOLUCAO == 2 and CLASSI_FIN == 5')['HOSPITAL'].count()\n",
    "f'PACIENTES QUE NÃO RESISTIRAM DEPOIS DE INTERNADOS POR CORONA VÍRUS: {total}'"
   ]
  },
  {
   "cell_type": "markdown",
   "metadata": {},
   "source": [
    "Quantidade de pacientes com o estado de evolução ignorado: "
   ]
  },
  {
   "cell_type": "code",
   "execution_count": 89,
   "metadata": {},
   "outputs": [
    {
     "data": {
      "text/plain": [
       "'Pacientes com o estado de evolução ignorado: 2154'"
      ]
     },
     "execution_count": 89,
     "metadata": {},
     "output_type": "execute_result"
    }
   ],
   "source": [
    "total = df.query('EVOLUCAO == 9 and CLASSI_FIN == 5')['HOSPITAL'].count()\n",
    "f'Pacientes com o estado de evolução ignorado: {total}'"
   ]
  },
  {
   "cell_type": "markdown",
   "metadata": {},
   "source": [
    "## ÓBITOS X SEXO DOS PACIENTES"
   ]
  },
  {
   "cell_type": "code",
   "execution_count": 110,
   "metadata": {
    "scrolled": true
   },
   "outputs": [
    {
     "data": {
      "image/png": "[encoded data removed]",
      "text/plain": [
       "<Figure size 288x288 with 1 Axes>"
      ]
     },
     "metadata": {
      "needs_background": "light"
     },
     "output_type": "display_data"
    }
   ],
   "source": [
    "df.query('EVOLUCAO == 2 and CLASSI_FIN == 5 and HOSPITAL == 1')['CS_SEXO'].value_counts().plot(kind='bar', figsize=(4,4), color='#000000', edgecolor='blue')\n",
    "plt.title('Óbitos por covid-19 x Sexo')\n",
    "plt.xlabel('Sexo')\n",
    "plt.setp(plt.gca().get_xticklabels(), rotation=45, horizontalalignment='right')\n",
    "plt.ylabel('Óbitos')\n",
    "plt.legend(loc='best') \n",
    "plt.show()"
   ]
  },
  {
   "cell_type": "markdown",
   "metadata": {},
   "source": [
    "<b>7.253 homens </b> e <b>4.972 mulheres</b> diagnosticados com e internados por conta do covid-19 vieram a óbito. "
   ]
  },
  {
   "cell_type": "markdown",
   "metadata": {},
   "source": [
    "## CURADOS X SEXO DOS PACIENTES"
   ]
  },
  {
   "cell_type": "code",
   "execution_count": 116,
   "metadata": {},
   "outputs": [
    {
     "data": {
      "image/png": "[encoded data removed]",
      "text/plain": [
       "<Figure size 288x288 with 1 Axes>"
      ]
     },
     "metadata": {
      "needs_background": "light"
     },
     "output_type": "display_data"
    }
   ],
   "source": [
    "df.query('EVOLUCAO == 1 and CLASSI_FIN == 5 and HOSPITAL == 1')['CS_SEXO'].value_counts().plot(kind='bar', figsize=(4,4), color='#33cc33', edgecolor='black')\n",
    "plt.title('Quantidade de curados x Sexo')\n",
    "plt.xlabel('Sexo')\n",
    "plt.setp(plt.gca().get_xticklabels(), rotation=45, horizontalalignment='right')\n",
    "plt.ylabel('Curados')\n",
    "plt.legend(loc='best') \n",
    "plt.show()"
   ]
  },
  {
   "cell_type": "markdown",
   "metadata": {},
   "source": [
    "<b>8.499 homens, 6.431 mulheres e 3 pessoas com sexo indefinido foram curados </b>"
   ]
  },
  {
   "cell_type": "markdown",
   "metadata": {},
   "source": [
    "## PACIENTES DIAGNOSTICADOS COM COVID-19 E INTERNADOS NA UTI EM SP"
   ]
  },
  {
   "cell_type": "markdown",
   "metadata": {},
   "source": [
    "#### Por volta de 6.787 pessoas diagnosticadas com covid-19 em sp foram internadas em uti"
   ]
  },
  {
   "cell_type": "code",
   "execution_count": 125,
   "metadata": {},
   "outputs": [
    {
     "data": {
      "text/plain": [
       "2.0    12516\n",
       "1.0     6787\n",
       "9.0      451\n",
       "Name: UTI, dtype: int64"
      ]
     },
     "execution_count": 125,
     "metadata": {},
     "output_type": "execute_result"
    }
   ],
   "source": [
    "x = df.query('HOSPITAL == 1 and CLASSI_FIN == 5 and SG_UF_NOT == \"SP\"')['UTI'].value_counts()"
   ]
  },
  {
   "cell_type": "markdown",
   "metadata": {},
   "source": [
    "## PACIENTES QUE FORAM PARA UTI E FALECERAM EM SP"
   ]
  },
  {
   "cell_type": "code",
   "execution_count": 129,
   "metadata": {},
   "outputs": [
    {
     "data": {
      "text/plain": [
       "'DOS PACIENTES QUE PASSARAM PELA UTI COM COVID-19 E FORAM AO ÓBITO: 4735 são de SP'"
      ]
     },
     "execution_count": 129,
     "metadata": {},
     "output_type": "execute_result"
    }
   ],
   "source": [
    "total = df.query('EVOLUCAO == 2 and CLASSI_FIN == 5 and SG_UF_NOT == \"SP\"')['UTI'].count()\n",
    "f'DOS PACIENTES QUE PASSARAM PELA UTI COM COVID-19 E FORAM AO ÓBITO: {total}'' são de SP'"
   ]
  },
  {
   "cell_type": "markdown",
   "metadata": {},
   "source": [
    "## PACIENTES INTERNADOS NA UTI COM COVID-19 X ÓBITOS EM SP"
   ]
  },
  {
   "cell_type": "code",
   "execution_count": 148,
   "metadata": {},
   "outputs": [
    {
     "data": {
      "text/plain": [
       "'Cerca de 69.76572859879181% dos pacientes que foram para UTI, chegaram ao óbito em SP'"
      ]
     },
     "execution_count": 148,
     "metadata": {},
     "output_type": "execute_result"
    }
   ],
   "source": [
    "x = 4.735 \n",
    "y = 6.787\n",
    "f'Cerca de {x*100/y}% dos pacientes que foram para UTI, chegaram ao óbito em SP'"
   ]
  },
  {
   "cell_type": "code",
   "execution_count": null,
   "metadata": {},
   "outputs": [],
   "source": []
  }
 ],
 "metadata": {
  "kernelspec": {
   "display_name": "Python 3",
   "language": "python",
   "name": "python3"
  },
  "language_info": {
   "codemirror_mode": {
    "name": "ipython",
    "version": 3
   },
   "file_extension": ".py",
   "mimetype": "text/x-python",
   "name": "python",
   "nbconvert_exporter": "python",
   "pygments_lexer": "ipython3",
   "version": "3.8.0"
  }
 },
 "nbformat": 4,
 "nbformat_minor": 4
}
